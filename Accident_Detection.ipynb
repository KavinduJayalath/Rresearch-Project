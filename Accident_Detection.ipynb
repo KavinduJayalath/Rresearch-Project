{
 "cells": [
  {
   "cell_type": "code",
   "execution_count": 3,
   "metadata": {
    "collapsed": true,
    "ExecuteTime": {
     "end_time": "2023-09-06T08:06:43.377318500Z",
     "start_time": "2023-09-06T08:06:43.266814200Z"
    }
   },
   "outputs": [
    {
     "name": "stderr",
     "output_type": "stream",
     "text": [
      "fatal: destination path 'yolov5' already exists and is not an empty directory.\n"
     ]
    }
   ],
   "source": [
    "!git clone https://github.com/ultralytics/yolov5"
   ]
  },
  {
   "cell_type": "code",
   "execution_count": 1,
   "outputs": [
    {
     "name": "stderr",
     "output_type": "stream",
     "text": [
      "fatal: destination path 'yolov5' already exists and is not an empty directory.\n"
     ]
    }
   ],
   "source": [
    "!git clone https://github.com/ultralytics/yolov5"
   ],
   "metadata": {
    "collapsed": false,
    "ExecuteTime": {
     "end_time": "2023-09-05T19:34:54.896767500Z",
     "start_time": "2023-09-05T19:34:54.814755900Z"
    }
   }
  },
  {
   "cell_type": "code",
   "execution_count": 4,
   "outputs": [
    {
     "name": "stdout",
     "output_type": "stream",
     "text": [
      "C:\\Users\\kavin\\Desktop\\Project\\yolov5\n",
      "Note: you may need to restart the kernel to use updated packages.\n"
     ]
    }
   ],
   "source": [
    "%cd yolov5\n",
    "%pip install -qr requirements.txt"
   ],
   "metadata": {
    "collapsed": false,
    "ExecuteTime": {
     "end_time": "2023-09-06T08:06:53.729602700Z",
     "start_time": "2023-09-06T08:06:51.005516300Z"
    }
   }
  },
  {
   "cell_type": "code",
   "execution_count": 6,
   "outputs": [
    {
     "name": "stdout",
     "output_type": "stream",
     "text": [
      "C:\\Users\\kavin\\Desktop\\Project\\yolov5\n"
     ]
    }
   ],
   "source": [
    "!cd"
   ],
   "metadata": {
    "collapsed": false,
    "ExecuteTime": {
     "end_time": "2023-09-06T08:07:22.460738900Z",
     "start_time": "2023-09-06T08:07:22.407569700Z"
    }
   }
  },
  {
   "cell_type": "code",
   "execution_count": 10,
   "outputs": [
    {
     "name": "stderr",
     "output_type": "stream",
     "text": [
      "\u001B[34m\u001B[1mdetect: \u001B[0mweights=['runs/train/exp/weights/best.pt'], source=C:\\Users\\kavin\\Desktop\\Test.mp4, data=data\\coco128.yaml, imgsz=[640, 640], conf_thres=0.25, iou_thres=0.45, max_det=1000, device=, view_img=False, save_txt=False, save_conf=False, save_crop=False, nosave=False, classes=None, agnostic_nms=False, augment=False, visualize=False, update=False, project=runs\\detect, name=exp, exist_ok=False, line_thickness=3, hide_labels=False, hide_conf=False, half=False, dnn=False, vid_stride=1\n",
      "YOLOv5  v7.0-213-g378ed74 Python-3.10.11 torch-2.0.1+cpu CPU\n",
      "\n",
      "Fusing layers... \n",
      "Model summary: 157 layers, 7012822 parameters, 0 gradients, 15.8 GFLOPs\n",
      "video 1/1 (1/210) C:\\Users\\kavin\\Desktop\\Test.mp4: 384x640 (no detections), 170.2ms\n",
      "video 1/1 (2/210) C:\\Users\\kavin\\Desktop\\Test.mp4: 384x640 (no detections), 217.2ms\n",
      "video 1/1 (3/210) C:\\Users\\kavin\\Desktop\\Test.mp4: 384x640 (no detections), 212.7ms\n",
      "video 1/1 (4/210) C:\\Users\\kavin\\Desktop\\Test.mp4: 384x640 (no detections), 176.3ms\n",
      "video 1/1 (5/210) C:\\Users\\kavin\\Desktop\\Test.mp4: 384x640 (no detections), 150.5ms\n",
      "video 1/1 (6/210) C:\\Users\\kavin\\Desktop\\Test.mp4: 384x640 (no detections), 152.7ms\n",
      "video 1/1 (7/210) C:\\Users\\kavin\\Desktop\\Test.mp4: 384x640 (no detections), 168.3ms\n",
      "video 1/1 (8/210) C:\\Users\\kavin\\Desktop\\Test.mp4: 384x640 (no detections), 194.4ms\n",
      "video 1/1 (9/210) C:\\Users\\kavin\\Desktop\\Test.mp4: 384x640 (no detections), 187.7ms\n",
      "video 1/1 (10/210) C:\\Users\\kavin\\Desktop\\Test.mp4: 384x640 (no detections), 158.2ms\n",
      "video 1/1 (11/210) C:\\Users\\kavin\\Desktop\\Test.mp4: 384x640 (no detections), 188.5ms\n",
      "video 1/1 (12/210) C:\\Users\\kavin\\Desktop\\Test.mp4: 384x640 (no detections), 198.6ms\n",
      "video 1/1 (13/210) C:\\Users\\kavin\\Desktop\\Test.mp4: 384x640 (no detections), 159.8ms\n",
      "video 1/1 (14/210) C:\\Users\\kavin\\Desktop\\Test.mp4: 384x640 (no detections), 299.9ms\n",
      "video 1/1 (15/210) C:\\Users\\kavin\\Desktop\\Test.mp4: 384x640 (no detections), 322.7ms\n",
      "video 1/1 (16/210) C:\\Users\\kavin\\Desktop\\Test.mp4: 384x640 (no detections), 183.8ms\n",
      "video 1/1 (17/210) C:\\Users\\kavin\\Desktop\\Test.mp4: 384x640 (no detections), 189.9ms\n",
      "video 1/1 (18/210) C:\\Users\\kavin\\Desktop\\Test.mp4: 384x640 (no detections), 215.3ms\n",
      "video 1/1 (19/210) C:\\Users\\kavin\\Desktop\\Test.mp4: 384x640 (no detections), 267.7ms\n",
      "video 1/1 (20/210) C:\\Users\\kavin\\Desktop\\Test.mp4: 384x640 (no detections), 263.1ms\n",
      "video 1/1 (21/210) C:\\Users\\kavin\\Desktop\\Test.mp4: 384x640 (no detections), 270.5ms\n",
      "video 1/1 (22/210) C:\\Users\\kavin\\Desktop\\Test.mp4: 384x640 (no detections), 281.9ms\n",
      "video 1/1 (23/210) C:\\Users\\kavin\\Desktop\\Test.mp4: 384x640 (no detections), 229.4ms\n",
      "video 1/1 (24/210) C:\\Users\\kavin\\Desktop\\Test.mp4: 384x640 (no detections), 196.9ms\n",
      "video 1/1 (25/210) C:\\Users\\kavin\\Desktop\\Test.mp4: 384x640 (no detections), 191.9ms\n",
      "video 1/1 (26/210) C:\\Users\\kavin\\Desktop\\Test.mp4: 384x640 (no detections), 181.2ms\n",
      "video 1/1 (27/210) C:\\Users\\kavin\\Desktop\\Test.mp4: 384x640 (no detections), 176.3ms\n",
      "video 1/1 (28/210) C:\\Users\\kavin\\Desktop\\Test.mp4: 384x640 (no detections), 183.0ms\n",
      "video 1/1 (29/210) C:\\Users\\kavin\\Desktop\\Test.mp4: 384x640 (no detections), 199.3ms\n",
      "video 1/1 (30/210) C:\\Users\\kavin\\Desktop\\Test.mp4: 384x640 (no detections), 187.3ms\n",
      "video 1/1 (31/210) C:\\Users\\kavin\\Desktop\\Test.mp4: 384x640 (no detections), 167.9ms\n",
      "video 1/1 (32/210) C:\\Users\\kavin\\Desktop\\Test.mp4: 384x640 (no detections), 182.5ms\n",
      "video 1/1 (33/210) C:\\Users\\kavin\\Desktop\\Test.mp4: 384x640 (no detections), 221.6ms\n",
      "video 1/1 (34/210) C:\\Users\\kavin\\Desktop\\Test.mp4: 384x640 (no detections), 239.4ms\n",
      "video 1/1 (35/210) C:\\Users\\kavin\\Desktop\\Test.mp4: 384x640 (no detections), 173.5ms\n",
      "video 1/1 (36/210) C:\\Users\\kavin\\Desktop\\Test.mp4: 384x640 (no detections), 198.6ms\n",
      "video 1/1 (37/210) C:\\Users\\kavin\\Desktop\\Test.mp4: 384x640 (no detections), 176.2ms\n",
      "video 1/1 (38/210) C:\\Users\\kavin\\Desktop\\Test.mp4: 384x640 (no detections), 151.7ms\n",
      "video 1/1 (39/210) C:\\Users\\kavin\\Desktop\\Test.mp4: 384x640 (no detections), 169.9ms\n",
      "video 1/1 (40/210) C:\\Users\\kavin\\Desktop\\Test.mp4: 384x640 (no detections), 166.6ms\n",
      "video 1/1 (41/210) C:\\Users\\kavin\\Desktop\\Test.mp4: 384x640 (no detections), 173.1ms\n",
      "video 1/1 (42/210) C:\\Users\\kavin\\Desktop\\Test.mp4: 384x640 (no detections), 167.0ms\n",
      "video 1/1 (43/210) C:\\Users\\kavin\\Desktop\\Test.mp4: 384x640 (no detections), 166.9ms\n",
      "video 1/1 (44/210) C:\\Users\\kavin\\Desktop\\Test.mp4: 384x640 (no detections), 178.5ms\n",
      "video 1/1 (45/210) C:\\Users\\kavin\\Desktop\\Test.mp4: 384x640 (no detections), 169.2ms\n",
      "video 1/1 (46/210) C:\\Users\\kavin\\Desktop\\Test.mp4: 384x640 (no detections), 172.3ms\n",
      "video 1/1 (47/210) C:\\Users\\kavin\\Desktop\\Test.mp4: 384x640 (no detections), 193.4ms\n",
      "video 1/1 (48/210) C:\\Users\\kavin\\Desktop\\Test.mp4: 384x640 (no detections), 137.6ms\n",
      "video 1/1 (49/210) C:\\Users\\kavin\\Desktop\\Test.mp4: 384x640 (no detections), 154.9ms\n",
      "video 1/1 (50/210) C:\\Users\\kavin\\Desktop\\Test.mp4: 384x640 (no detections), 140.2ms\n",
      "video 1/1 (51/210) C:\\Users\\kavin\\Desktop\\Test.mp4: 384x640 (no detections), 158.2ms\n",
      "video 1/1 (52/210) C:\\Users\\kavin\\Desktop\\Test.mp4: 384x640 (no detections), 173.9ms\n",
      "video 1/1 (53/210) C:\\Users\\kavin\\Desktop\\Test.mp4: 384x640 (no detections), 170.4ms\n",
      "video 1/1 (54/210) C:\\Users\\kavin\\Desktop\\Test.mp4: 384x640 (no detections), 162.6ms\n",
      "video 1/1 (55/210) C:\\Users\\kavin\\Desktop\\Test.mp4: 384x640 (no detections), 157.9ms\n",
      "video 1/1 (56/210) C:\\Users\\kavin\\Desktop\\Test.mp4: 384x640 (no detections), 164.5ms\n",
      "video 1/1 (57/210) C:\\Users\\kavin\\Desktop\\Test.mp4: 384x640 (no detections), 158.3ms\n",
      "video 1/1 (58/210) C:\\Users\\kavin\\Desktop\\Test.mp4: 384x640 (no detections), 162.5ms\n",
      "video 1/1 (59/210) C:\\Users\\kavin\\Desktop\\Test.mp4: 384x640 (no detections), 147.0ms\n",
      "video 1/1 (60/210) C:\\Users\\kavin\\Desktop\\Test.mp4: 384x640 (no detections), 152.4ms\n",
      "video 1/1 (61/210) C:\\Users\\kavin\\Desktop\\Test.mp4: 384x640 (no detections), 145.1ms\n",
      "video 1/1 (62/210) C:\\Users\\kavin\\Desktop\\Test.mp4: 384x640 (no detections), 161.6ms\n",
      "video 1/1 (63/210) C:\\Users\\kavin\\Desktop\\Test.mp4: 384x640 (no detections), 130.6ms\n",
      "video 1/1 (64/210) C:\\Users\\kavin\\Desktop\\Test.mp4: 384x640 (no detections), 166.5ms\n",
      "video 1/1 (65/210) C:\\Users\\kavin\\Desktop\\Test.mp4: 384x640 (no detections), 165.5ms\n",
      "video 1/1 (66/210) C:\\Users\\kavin\\Desktop\\Test.mp4: 384x640 (no detections), 136.6ms\n",
      "video 1/1 (67/210) C:\\Users\\kavin\\Desktop\\Test.mp4: 384x640 (no detections), 158.2ms\n",
      "video 1/1 (68/210) C:\\Users\\kavin\\Desktop\\Test.mp4: 384x640 (no detections), 147.5ms\n",
      "video 1/1 (69/210) C:\\Users\\kavin\\Desktop\\Test.mp4: 384x640 (no detections), 159.7ms\n",
      "video 1/1 (70/210) C:\\Users\\kavin\\Desktop\\Test.mp4: 384x640 (no detections), 147.5ms\n",
      "video 1/1 (71/210) C:\\Users\\kavin\\Desktop\\Test.mp4: 384x640 (no detections), 150.6ms\n",
      "video 1/1 (72/210) C:\\Users\\kavin\\Desktop\\Test.mp4: 384x640 (no detections), 147.4ms\n",
      "video 1/1 (73/210) C:\\Users\\kavin\\Desktop\\Test.mp4: 384x640 (no detections), 153.0ms\n",
      "video 1/1 (74/210) C:\\Users\\kavin\\Desktop\\Test.mp4: 384x640 (no detections), 143.1ms\n",
      "video 1/1 (75/210) C:\\Users\\kavin\\Desktop\\Test.mp4: 384x640 (no detections), 198.5ms\n",
      "video 1/1 (76/210) C:\\Users\\kavin\\Desktop\\Test.mp4: 384x640 (no detections), 153.6ms\n",
      "video 1/1 (77/210) C:\\Users\\kavin\\Desktop\\Test.mp4: 384x640 (no detections), 145.8ms\n",
      "video 1/1 (78/210) C:\\Users\\kavin\\Desktop\\Test.mp4: 384x640 (no detections), 135.8ms\n",
      "video 1/1 (79/210) C:\\Users\\kavin\\Desktop\\Test.mp4: 384x640 (no detections), 149.8ms\n",
      "video 1/1 (80/210) C:\\Users\\kavin\\Desktop\\Test.mp4: 384x640 (no detections), 145.2ms\n",
      "video 1/1 (81/210) C:\\Users\\kavin\\Desktop\\Test.mp4: 384x640 (no detections), 144.4ms\n",
      "video 1/1 (82/210) C:\\Users\\kavin\\Desktop\\Test.mp4: 384x640 (no detections), 144.6ms\n",
      "video 1/1 (83/210) C:\\Users\\kavin\\Desktop\\Test.mp4: 384x640 (no detections), 154.1ms\n",
      "video 1/1 (84/210) C:\\Users\\kavin\\Desktop\\Test.mp4: 384x640 (no detections), 163.1ms\n",
      "video 1/1 (85/210) C:\\Users\\kavin\\Desktop\\Test.mp4: 384x640 (no detections), 147.2ms\n",
      "video 1/1 (86/210) C:\\Users\\kavin\\Desktop\\Test.mp4: 384x640 1 0, 154.0ms\n",
      "video 1/1 (87/210) C:\\Users\\kavin\\Desktop\\Test.mp4: 384x640 (no detections), 169.1ms\n",
      "video 1/1 (88/210) C:\\Users\\kavin\\Desktop\\Test.mp4: 384x640 (no detections), 161.5ms\n",
      "video 1/1 (89/210) C:\\Users\\kavin\\Desktop\\Test.mp4: 384x640 (no detections), 153.8ms\n",
      "video 1/1 (90/210) C:\\Users\\kavin\\Desktop\\Test.mp4: 384x640 (no detections), 141.2ms\n",
      "video 1/1 (91/210) C:\\Users\\kavin\\Desktop\\Test.mp4: 384x640 (no detections), 188.1ms\n",
      "video 1/1 (92/210) C:\\Users\\kavin\\Desktop\\Test.mp4: 384x640 (no detections), 183.3ms\n",
      "video 1/1 (93/210) C:\\Users\\kavin\\Desktop\\Test.mp4: 384x640 (no detections), 170.8ms\n",
      "video 1/1 (94/210) C:\\Users\\kavin\\Desktop\\Test.mp4: 384x640 (no detections), 151.1ms\n",
      "video 1/1 (95/210) C:\\Users\\kavin\\Desktop\\Test.mp4: 384x640 (no detections), 174.5ms\n",
      "video 1/1 (96/210) C:\\Users\\kavin\\Desktop\\Test.mp4: 384x640 (no detections), 153.5ms\n",
      "video 1/1 (97/210) C:\\Users\\kavin\\Desktop\\Test.mp4: 384x640 (no detections), 150.0ms\n",
      "video 1/1 (98/210) C:\\Users\\kavin\\Desktop\\Test.mp4: 384x640 (no detections), 158.5ms\n",
      "video 1/1 (99/210) C:\\Users\\kavin\\Desktop\\Test.mp4: 384x640 (no detections), 173.2ms\n",
      "video 1/1 (100/210) C:\\Users\\kavin\\Desktop\\Test.mp4: 384x640 (no detections), 153.1ms\n",
      "video 1/1 (101/210) C:\\Users\\kavin\\Desktop\\Test.mp4: 384x640 (no detections), 150.8ms\n",
      "video 1/1 (102/210) C:\\Users\\kavin\\Desktop\\Test.mp4: 384x640 (no detections), 153.4ms\n",
      "video 1/1 (103/210) C:\\Users\\kavin\\Desktop\\Test.mp4: 384x640 (no detections), 136.3ms\n",
      "video 1/1 (104/210) C:\\Users\\kavin\\Desktop\\Test.mp4: 384x640 1 0, 158.0ms\n",
      "video 1/1 (105/210) C:\\Users\\kavin\\Desktop\\Test.mp4: 384x640 1 0, 154.0ms\n",
      "video 1/1 (106/210) C:\\Users\\kavin\\Desktop\\Test.mp4: 384x640 1 0, 163.3ms\n",
      "video 1/1 (107/210) C:\\Users\\kavin\\Desktop\\Test.mp4: 384x640 1 0, 148.6ms\n",
      "video 1/1 (108/210) C:\\Users\\kavin\\Desktop\\Test.mp4: 384x640 1 0, 146.6ms\n",
      "video 1/1 (109/210) C:\\Users\\kavin\\Desktop\\Test.mp4: 384x640 1 0, 154.1ms\n",
      "video 1/1 (110/210) C:\\Users\\kavin\\Desktop\\Test.mp4: 384x640 1 0, 156.8ms\n",
      "video 1/1 (111/210) C:\\Users\\kavin\\Desktop\\Test.mp4: 384x640 1 0, 144.2ms\n",
      "video 1/1 (112/210) C:\\Users\\kavin\\Desktop\\Test.mp4: 384x640 1 0, 158.1ms\n",
      "video 1/1 (113/210) C:\\Users\\kavin\\Desktop\\Test.mp4: 384x640 1 0, 150.0ms\n",
      "video 1/1 (114/210) C:\\Users\\kavin\\Desktop\\Test.mp4: 384x640 1 0, 165.7ms\n",
      "video 1/1 (115/210) C:\\Users\\kavin\\Desktop\\Test.mp4: 384x640 1 0, 152.6ms\n",
      "video 1/1 (116/210) C:\\Users\\kavin\\Desktop\\Test.mp4: 384x640 1 0, 154.3ms\n",
      "video 1/1 (117/210) C:\\Users\\kavin\\Desktop\\Test.mp4: 384x640 1 0, 151.3ms\n",
      "video 1/1 (118/210) C:\\Users\\kavin\\Desktop\\Test.mp4: 384x640 1 0, 166.5ms\n",
      "video 1/1 (119/210) C:\\Users\\kavin\\Desktop\\Test.mp4: 384x640 1 0, 152.2ms\n",
      "video 1/1 (120/210) C:\\Users\\kavin\\Desktop\\Test.mp4: 384x640 1 0, 143.4ms\n",
      "video 1/1 (121/210) C:\\Users\\kavin\\Desktop\\Test.mp4: 384x640 1 0, 201.3ms\n",
      "video 1/1 (122/210) C:\\Users\\kavin\\Desktop\\Test.mp4: 384x640 (no detections), 148.7ms\n",
      "video 1/1 (123/210) C:\\Users\\kavin\\Desktop\\Test.mp4: 384x640 (no detections), 163.8ms\n",
      "video 1/1 (124/210) C:\\Users\\kavin\\Desktop\\Test.mp4: 384x640 (no detections), 143.6ms\n",
      "video 1/1 (125/210) C:\\Users\\kavin\\Desktop\\Test.mp4: 384x640 (no detections), 147.9ms\n",
      "video 1/1 (126/210) C:\\Users\\kavin\\Desktop\\Test.mp4: 384x640 (no detections), 153.9ms\n",
      "video 1/1 (127/210) C:\\Users\\kavin\\Desktop\\Test.mp4: 384x640 (no detections), 163.6ms\n",
      "video 1/1 (128/210) C:\\Users\\kavin\\Desktop\\Test.mp4: 384x640 (no detections), 157.4ms\n",
      "video 1/1 (129/210) C:\\Users\\kavin\\Desktop\\Test.mp4: 384x640 (no detections), 164.2ms\n",
      "video 1/1 (130/210) C:\\Users\\kavin\\Desktop\\Test.mp4: 384x640 (no detections), 139.8ms\n",
      "video 1/1 (131/210) C:\\Users\\kavin\\Desktop\\Test.mp4: 384x640 (no detections), 155.6ms\n",
      "video 1/1 (132/210) C:\\Users\\kavin\\Desktop\\Test.mp4: 384x640 (no detections), 166.5ms\n",
      "video 1/1 (133/210) C:\\Users\\kavin\\Desktop\\Test.mp4: 384x640 (no detections), 159.5ms\n",
      "video 1/1 (134/210) C:\\Users\\kavin\\Desktop\\Test.mp4: 384x640 (no detections), 188.9ms\n",
      "video 1/1 (135/210) C:\\Users\\kavin\\Desktop\\Test.mp4: 384x640 (no detections), 148.3ms\n",
      "video 1/1 (136/210) C:\\Users\\kavin\\Desktop\\Test.mp4: 384x640 (no detections), 152.3ms\n",
      "video 1/1 (137/210) C:\\Users\\kavin\\Desktop\\Test.mp4: 384x640 (no detections), 153.6ms\n",
      "video 1/1 (138/210) C:\\Users\\kavin\\Desktop\\Test.mp4: 384x640 (no detections), 158.1ms\n",
      "video 1/1 (139/210) C:\\Users\\kavin\\Desktop\\Test.mp4: 384x640 (no detections), 175.8ms\n",
      "video 1/1 (140/210) C:\\Users\\kavin\\Desktop\\Test.mp4: 384x640 (no detections), 135.6ms\n",
      "video 1/1 (141/210) C:\\Users\\kavin\\Desktop\\Test.mp4: 384x640 (no detections), 178.4ms\n",
      "video 1/1 (142/210) C:\\Users\\kavin\\Desktop\\Test.mp4: 384x640 (no detections), 159.5ms\n",
      "video 1/1 (143/210) C:\\Users\\kavin\\Desktop\\Test.mp4: 384x640 (no detections), 157.2ms\n",
      "video 1/1 (144/210) C:\\Users\\kavin\\Desktop\\Test.mp4: 384x640 (no detections), 147.3ms\n",
      "video 1/1 (145/210) C:\\Users\\kavin\\Desktop\\Test.mp4: 384x640 (no detections), 165.2ms\n",
      "video 1/1 (146/210) C:\\Users\\kavin\\Desktop\\Test.mp4: 384x640 (no detections), 163.5ms\n",
      "video 1/1 (147/210) C:\\Users\\kavin\\Desktop\\Test.mp4: 384x640 (no detections), 145.2ms\n",
      "video 1/1 (148/210) C:\\Users\\kavin\\Desktop\\Test.mp4: 384x640 (no detections), 151.7ms\n",
      "video 1/1 (149/210) C:\\Users\\kavin\\Desktop\\Test.mp4: 384x640 (no detections), 150.2ms\n",
      "video 1/1 (150/210) C:\\Users\\kavin\\Desktop\\Test.mp4: 384x640 (no detections), 192.2ms\n",
      "video 1/1 (151/210) C:\\Users\\kavin\\Desktop\\Test.mp4: 384x640 (no detections), 172.9ms\n",
      "video 1/1 (152/210) C:\\Users\\kavin\\Desktop\\Test.mp4: 384x640 (no detections), 165.4ms\n",
      "video 1/1 (153/210) C:\\Users\\kavin\\Desktop\\Test.mp4: 384x640 (no detections), 144.5ms\n",
      "video 1/1 (154/210) C:\\Users\\kavin\\Desktop\\Test.mp4: 384x640 (no detections), 137.1ms\n",
      "video 1/1 (155/210) C:\\Users\\kavin\\Desktop\\Test.mp4: 384x640 (no detections), 190.5ms\n",
      "video 1/1 (156/210) C:\\Users\\kavin\\Desktop\\Test.mp4: 384x640 (no detections), 145.8ms\n",
      "video 1/1 (157/210) C:\\Users\\kavin\\Desktop\\Test.mp4: 384x640 (no detections), 185.3ms\n",
      "video 1/1 (158/210) C:\\Users\\kavin\\Desktop\\Test.mp4: 384x640 (no detections), 184.9ms\n",
      "video 1/1 (159/210) C:\\Users\\kavin\\Desktop\\Test.mp4: 384x640 (no detections), 181.5ms\n",
      "video 1/1 (160/210) C:\\Users\\kavin\\Desktop\\Test.mp4: 384x640 (no detections), 137.5ms\n",
      "video 1/1 (161/210) C:\\Users\\kavin\\Desktop\\Test.mp4: 384x640 (no detections), 173.4ms\n",
      "video 1/1 (162/210) C:\\Users\\kavin\\Desktop\\Test.mp4: 384x640 (no detections), 188.5ms\n",
      "video 1/1 (163/210) C:\\Users\\kavin\\Desktop\\Test.mp4: 384x640 (no detections), 181.5ms\n",
      "video 1/1 (164/210) C:\\Users\\kavin\\Desktop\\Test.mp4: 384x640 (no detections), 175.9ms\n",
      "video 1/1 (165/210) C:\\Users\\kavin\\Desktop\\Test.mp4: 384x640 (no detections), 188.9ms\n",
      "video 1/1 (166/210) C:\\Users\\kavin\\Desktop\\Test.mp4: 384x640 (no detections), 186.5ms\n",
      "video 1/1 (167/210) C:\\Users\\kavin\\Desktop\\Test.mp4: 384x640 (no detections), 177.0ms\n",
      "video 1/1 (168/210) C:\\Users\\kavin\\Desktop\\Test.mp4: 384x640 (no detections), 153.0ms\n",
      "video 1/1 (169/210) C:\\Users\\kavin\\Desktop\\Test.mp4: 384x640 (no detections), 186.9ms\n",
      "video 1/1 (170/210) C:\\Users\\kavin\\Desktop\\Test.mp4: 384x640 1 0, 165.4ms\n",
      "video 1/1 (171/210) C:\\Users\\kavin\\Desktop\\Test.mp4: 384x640 1 0, 183.8ms\n",
      "video 1/1 (172/210) C:\\Users\\kavin\\Desktop\\Test.mp4: 384x640 1 0, 175.6ms\n",
      "video 1/1 (173/210) C:\\Users\\kavin\\Desktop\\Test.mp4: 384x640 1 0, 185.9ms\n",
      "video 1/1 (174/210) C:\\Users\\kavin\\Desktop\\Test.mp4: 384x640 1 0, 182.4ms\n",
      "video 1/1 (175/210) C:\\Users\\kavin\\Desktop\\Test.mp4: 384x640 1 0, 156.8ms\n",
      "video 1/1 (176/210) C:\\Users\\kavin\\Desktop\\Test.mp4: 384x640 1 0, 131.6ms\n",
      "video 1/1 (177/210) C:\\Users\\kavin\\Desktop\\Test.mp4: 384x640 1 0, 178.2ms\n",
      "video 1/1 (178/210) C:\\Users\\kavin\\Desktop\\Test.mp4: 384x640 1 0, 164.2ms\n",
      "video 1/1 (179/210) C:\\Users\\kavin\\Desktop\\Test.mp4: 384x640 1 0, 181.2ms\n",
      "video 1/1 (180/210) C:\\Users\\kavin\\Desktop\\Test.mp4: 384x640 1 0, 149.3ms\n",
      "video 1/1 (181/210) C:\\Users\\kavin\\Desktop\\Test.mp4: 384x640 1 0, 175.9ms\n",
      "video 1/1 (182/210) C:\\Users\\kavin\\Desktop\\Test.mp4: 384x640 1 0, 156.0ms\n",
      "video 1/1 (183/210) C:\\Users\\kavin\\Desktop\\Test.mp4: 384x640 1 0, 186.4ms\n",
      "video 1/1 (184/210) C:\\Users\\kavin\\Desktop\\Test.mp4: 384x640 1 0, 171.2ms\n",
      "video 1/1 (185/210) C:\\Users\\kavin\\Desktop\\Test.mp4: 384x640 (no detections), 168.6ms\n",
      "video 1/1 (186/210) C:\\Users\\kavin\\Desktop\\Test.mp4: 384x640 1 0, 184.2ms\n",
      "video 1/1 (187/210) C:\\Users\\kavin\\Desktop\\Test.mp4: 384x640 (no detections), 137.3ms\n",
      "video 1/1 (188/210) C:\\Users\\kavin\\Desktop\\Test.mp4: 384x640 (no detections), 136.6ms\n",
      "video 1/1 (189/210) C:\\Users\\kavin\\Desktop\\Test.mp4: 384x640 (no detections), 191.2ms\n",
      "video 1/1 (190/210) C:\\Users\\kavin\\Desktop\\Test.mp4: 384x640 (no detections), 160.5ms\n",
      "video 1/1 (191/210) C:\\Users\\kavin\\Desktop\\Test.mp4: 384x640 (no detections), 189.9ms\n",
      "video 1/1 (192/210) C:\\Users\\kavin\\Desktop\\Test.mp4: 384x640 (no detections), 135.4ms\n",
      "video 1/1 (193/210) C:\\Users\\kavin\\Desktop\\Test.mp4: 384x640 (no detections), 175.6ms\n",
      "video 1/1 (194/210) C:\\Users\\kavin\\Desktop\\Test.mp4: 384x640 (no detections), 174.9ms\n",
      "video 1/1 (195/210) C:\\Users\\kavin\\Desktop\\Test.mp4: 384x640 (no detections), 174.0ms\n",
      "video 1/1 (196/210) C:\\Users\\kavin\\Desktop\\Test.mp4: 384x640 (no detections), 170.6ms\n",
      "video 1/1 (197/210) C:\\Users\\kavin\\Desktop\\Test.mp4: 384x640 (no detections), 182.4ms\n",
      "video 1/1 (198/210) C:\\Users\\kavin\\Desktop\\Test.mp4: 384x640 (no detections), 160.9ms\n",
      "video 1/1 (199/210) C:\\Users\\kavin\\Desktop\\Test.mp4: 384x640 (no detections), 169.5ms\n",
      "video 1/1 (200/210) C:\\Users\\kavin\\Desktop\\Test.mp4: 384x640 (no detections), 175.3ms\n",
      "video 1/1 (201/210) C:\\Users\\kavin\\Desktop\\Test.mp4: 384x640 (no detections), 177.0ms\n",
      "video 1/1 (202/210) C:\\Users\\kavin\\Desktop\\Test.mp4: 384x640 (no detections), 126.9ms\n",
      "video 1/1 (203/210) C:\\Users\\kavin\\Desktop\\Test.mp4: 384x640 (no detections), 177.3ms\n",
      "video 1/1 (204/210) C:\\Users\\kavin\\Desktop\\Test.mp4: 384x640 (no detections), 166.7ms\n",
      "video 1/1 (205/210) C:\\Users\\kavin\\Desktop\\Test.mp4: 384x640 (no detections), 174.1ms\n",
      "video 1/1 (206/210) C:\\Users\\kavin\\Desktop\\Test.mp4: 384x640 (no detections), 165.3ms\n",
      "video 1/1 (207/210) C:\\Users\\kavin\\Desktop\\Test.mp4: 384x640 (no detections), 218.3ms\n",
      "video 1/1 (208/210) C:\\Users\\kavin\\Desktop\\Test.mp4: 384x640 (no detections), 154.2ms\n",
      "video 1/1 (209/210) C:\\Users\\kavin\\Desktop\\Test.mp4: 384x640 (no detections), 183.3ms\n",
      "video 1/1 (210/210) C:\\Users\\kavin\\Desktop\\Test.mp4: 384x640 (no detections), 171.4ms\n",
      "Speed: 1.0ms pre-process, 169.4ms inference, 0.3ms NMS per image at shape (1, 3, 640, 640)\n",
      "Results saved to \u001B[1mruns\\detect\\exp13\u001B[0m\n"
     ]
    }
   ],
   "source": [
    "!python detect.py --weights runs/train/exp/weights/best.pt --img 640 --conf 0.25 --source C:\\Users\\kavin\\Desktop\\Test.mp4"
   ],
   "metadata": {
    "collapsed": false,
    "ExecuteTime": {
     "end_time": "2023-09-06T09:33:39.521248600Z",
     "start_time": "2023-09-06T09:32:49.133639200Z"
    }
   }
  }
 ],
 "metadata": {
  "kernelspec": {
   "display_name": "Python 3",
   "language": "python",
   "name": "python3"
  },
  "language_info": {
   "codemirror_mode": {
    "name": "ipython",
    "version": 2
   },
   "file_extension": ".py",
   "mimetype": "text/x-python",
   "name": "python",
   "nbconvert_exporter": "python",
   "pygments_lexer": "ipython2",
   "version": "2.7.6"
  }
 },
 "nbformat": 4,
 "nbformat_minor": 0
}
